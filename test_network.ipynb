{
 "cells": [
  {
   "cell_type": "code",
   "execution_count": 74,
   "metadata": {},
   "outputs": [],
   "source": [
    "import torch\n",
    "import numpy as np\n",
    "import pandas as pd\n",
    "import os"
   ]
  },
  {
   "cell_type": "code",
   "execution_count": 75,
   "metadata": {},
   "outputs": [],
   "source": [
    "train_data = pd.read_csv(filepath_or_buffer=os.path.join('data','digit-recognizer','train.csv'))"
   ]
  },
  {
   "cell_type": "code",
   "execution_count": 76,
   "metadata": {},
   "outputs": [
    {
     "data": {
      "text/html": [
       "<div>\n",
       "<style scoped>\n",
       "    .dataframe tbody tr th:only-of-type {\n",
       "        vertical-align: middle;\n",
       "    }\n",
       "\n",
       "    .dataframe tbody tr th {\n",
       "        vertical-align: top;\n",
       "    }\n",
       "\n",
       "    .dataframe thead th {\n",
       "        text-align: right;\n",
       "    }\n",
       "</style>\n",
       "<table border=\"1\" class=\"dataframe\">\n",
       "  <thead>\n",
       "    <tr style=\"text-align: right;\">\n",
       "      <th></th>\n",
       "      <th>label</th>\n",
       "      <th>pixel0</th>\n",
       "      <th>pixel1</th>\n",
       "      <th>pixel2</th>\n",
       "      <th>pixel3</th>\n",
       "      <th>pixel4</th>\n",
       "      <th>pixel5</th>\n",
       "      <th>pixel6</th>\n",
       "      <th>pixel7</th>\n",
       "      <th>pixel8</th>\n",
       "      <th>...</th>\n",
       "      <th>pixel774</th>\n",
       "      <th>pixel775</th>\n",
       "      <th>pixel776</th>\n",
       "      <th>pixel777</th>\n",
       "      <th>pixel778</th>\n",
       "      <th>pixel779</th>\n",
       "      <th>pixel780</th>\n",
       "      <th>pixel781</th>\n",
       "      <th>pixel782</th>\n",
       "      <th>pixel783</th>\n",
       "    </tr>\n",
       "  </thead>\n",
       "  <tbody>\n",
       "    <tr>\n",
       "      <th>0</th>\n",
       "      <td>1</td>\n",
       "      <td>0</td>\n",
       "      <td>0</td>\n",
       "      <td>0</td>\n",
       "      <td>0</td>\n",
       "      <td>0</td>\n",
       "      <td>0</td>\n",
       "      <td>0</td>\n",
       "      <td>0</td>\n",
       "      <td>0</td>\n",
       "      <td>...</td>\n",
       "      <td>0</td>\n",
       "      <td>0</td>\n",
       "      <td>0</td>\n",
       "      <td>0</td>\n",
       "      <td>0</td>\n",
       "      <td>0</td>\n",
       "      <td>0</td>\n",
       "      <td>0</td>\n",
       "      <td>0</td>\n",
       "      <td>0</td>\n",
       "    </tr>\n",
       "    <tr>\n",
       "      <th>1</th>\n",
       "      <td>0</td>\n",
       "      <td>0</td>\n",
       "      <td>0</td>\n",
       "      <td>0</td>\n",
       "      <td>0</td>\n",
       "      <td>0</td>\n",
       "      <td>0</td>\n",
       "      <td>0</td>\n",
       "      <td>0</td>\n",
       "      <td>0</td>\n",
       "      <td>...</td>\n",
       "      <td>0</td>\n",
       "      <td>0</td>\n",
       "      <td>0</td>\n",
       "      <td>0</td>\n",
       "      <td>0</td>\n",
       "      <td>0</td>\n",
       "      <td>0</td>\n",
       "      <td>0</td>\n",
       "      <td>0</td>\n",
       "      <td>0</td>\n",
       "    </tr>\n",
       "    <tr>\n",
       "      <th>2</th>\n",
       "      <td>1</td>\n",
       "      <td>0</td>\n",
       "      <td>0</td>\n",
       "      <td>0</td>\n",
       "      <td>0</td>\n",
       "      <td>0</td>\n",
       "      <td>0</td>\n",
       "      <td>0</td>\n",
       "      <td>0</td>\n",
       "      <td>0</td>\n",
       "      <td>...</td>\n",
       "      <td>0</td>\n",
       "      <td>0</td>\n",
       "      <td>0</td>\n",
       "      <td>0</td>\n",
       "      <td>0</td>\n",
       "      <td>0</td>\n",
       "      <td>0</td>\n",
       "      <td>0</td>\n",
       "      <td>0</td>\n",
       "      <td>0</td>\n",
       "    </tr>\n",
       "    <tr>\n",
       "      <th>3</th>\n",
       "      <td>4</td>\n",
       "      <td>0</td>\n",
       "      <td>0</td>\n",
       "      <td>0</td>\n",
       "      <td>0</td>\n",
       "      <td>0</td>\n",
       "      <td>0</td>\n",
       "      <td>0</td>\n",
       "      <td>0</td>\n",
       "      <td>0</td>\n",
       "      <td>...</td>\n",
       "      <td>0</td>\n",
       "      <td>0</td>\n",
       "      <td>0</td>\n",
       "      <td>0</td>\n",
       "      <td>0</td>\n",
       "      <td>0</td>\n",
       "      <td>0</td>\n",
       "      <td>0</td>\n",
       "      <td>0</td>\n",
       "      <td>0</td>\n",
       "    </tr>\n",
       "    <tr>\n",
       "      <th>4</th>\n",
       "      <td>0</td>\n",
       "      <td>0</td>\n",
       "      <td>0</td>\n",
       "      <td>0</td>\n",
       "      <td>0</td>\n",
       "      <td>0</td>\n",
       "      <td>0</td>\n",
       "      <td>0</td>\n",
       "      <td>0</td>\n",
       "      <td>0</td>\n",
       "      <td>...</td>\n",
       "      <td>0</td>\n",
       "      <td>0</td>\n",
       "      <td>0</td>\n",
       "      <td>0</td>\n",
       "      <td>0</td>\n",
       "      <td>0</td>\n",
       "      <td>0</td>\n",
       "      <td>0</td>\n",
       "      <td>0</td>\n",
       "      <td>0</td>\n",
       "    </tr>\n",
       "  </tbody>\n",
       "</table>\n",
       "<p>5 rows × 785 columns</p>\n",
       "</div>"
      ],
      "text/plain": [
       "   label  pixel0  pixel1  pixel2  pixel3  pixel4  pixel5  pixel6  pixel7  \\\n",
       "0      1       0       0       0       0       0       0       0       0   \n",
       "1      0       0       0       0       0       0       0       0       0   \n",
       "2      1       0       0       0       0       0       0       0       0   \n",
       "3      4       0       0       0       0       0       0       0       0   \n",
       "4      0       0       0       0       0       0       0       0       0   \n",
       "\n",
       "   pixel8  ...  pixel774  pixel775  pixel776  pixel777  pixel778  pixel779  \\\n",
       "0       0  ...         0         0         0         0         0         0   \n",
       "1       0  ...         0         0         0         0         0         0   \n",
       "2       0  ...         0         0         0         0         0         0   \n",
       "3       0  ...         0         0         0         0         0         0   \n",
       "4       0  ...         0         0         0         0         0         0   \n",
       "\n",
       "   pixel780  pixel781  pixel782  pixel783  \n",
       "0         0         0         0         0  \n",
       "1         0         0         0         0  \n",
       "2         0         0         0         0  \n",
       "3         0         0         0         0  \n",
       "4         0         0         0         0  \n",
       "\n",
       "[5 rows x 785 columns]"
      ]
     },
     "execution_count": 76,
     "metadata": {},
     "output_type": "execute_result"
    }
   ],
   "source": [
    "train_data.head()"
   ]
  },
  {
   "cell_type": "code",
   "execution_count": 77,
   "metadata": {},
   "outputs": [],
   "source": [
    "train_y = train_data.iloc[:,0]\n",
    "train_x = train_data.iloc[:,1:]"
   ]
  },
  {
   "cell_type": "code",
   "execution_count": 78,
   "metadata": {},
   "outputs": [],
   "source": [
    "VAL_PERCENT = 10\n",
    "\n",
    "val_len = int(VAL_PERCENT/100*len(train_data))\n",
    "\n",
    "split_idx = len(train_y)-val_len\n",
    "\n",
    "val_x = train_x.iloc[split_idx:]\n",
    "val_y = train_y.iloc[split_idx:]\n",
    "\n",
    "train_x = train_x[:split_idx]\n",
    "train_y = train_y[:split_idx]\n",
    "\n",
    "val_test_x = val_x[0:int(len(val_x)/2)]\n",
    "val_test_y = val_y[0:int(len(val_x)/2)]"
   ]
  },
  {
   "cell_type": "code",
   "execution_count": 79,
   "metadata": {},
   "outputs": [],
   "source": [
    "train_x = torch.tensor(train_x.to_numpy())\n",
    "val_x = torch.tensor(val_x.to_numpy())\n",
    "train_y = torch.tensor(train_y.to_numpy())\n",
    "val_y = torch.tensor(val_y.to_numpy())\n",
    "\n",
    "val_test_x = torch.tensor(val_test_x.to_numpy())\n",
    "val_test_y = torch.tensor(val_test_y.to_numpy())"
   ]
  },
  {
   "cell_type": "code",
   "execution_count": 80,
   "metadata": {},
   "outputs": [
    {
     "name": "stdout",
     "output_type": "stream",
     "text": [
      "torch.Size([37800, 784])\n",
      "torch.Size([4200, 784])\n",
      "torch.Size([37800])\n",
      "torch.Size([4200])\n",
      "torch.Size([2100, 784])\n",
      "torch.Size([2100])\n"
     ]
    }
   ],
   "source": [
    "print(train_x.size())\n",
    "print(val_x.size())\n",
    "print(train_y.size())\n",
    "print(val_y.size())\n",
    "print(val_test_x.size())\n",
    "print(val_test_y.size())"
   ]
  },
  {
   "cell_type": "code",
   "execution_count": 81,
   "metadata": {},
   "outputs": [
    {
     "data": {
      "text/html": [
       "<div>\n",
       "<style scoped>\n",
       "    .dataframe tbody tr th:only-of-type {\n",
       "        vertical-align: middle;\n",
       "    }\n",
       "\n",
       "    .dataframe tbody tr th {\n",
       "        vertical-align: top;\n",
       "    }\n",
       "\n",
       "    .dataframe thead th {\n",
       "        text-align: right;\n",
       "    }\n",
       "</style>\n",
       "<table border=\"1\" class=\"dataframe\">\n",
       "  <thead>\n",
       "    <tr style=\"text-align: right;\">\n",
       "      <th></th>\n",
       "      <th>pixel0</th>\n",
       "      <th>pixel1</th>\n",
       "      <th>pixel2</th>\n",
       "      <th>pixel3</th>\n",
       "      <th>pixel4</th>\n",
       "      <th>pixel5</th>\n",
       "      <th>pixel6</th>\n",
       "      <th>pixel7</th>\n",
       "      <th>pixel8</th>\n",
       "      <th>pixel9</th>\n",
       "      <th>...</th>\n",
       "      <th>pixel774</th>\n",
       "      <th>pixel775</th>\n",
       "      <th>pixel776</th>\n",
       "      <th>pixel777</th>\n",
       "      <th>pixel778</th>\n",
       "      <th>pixel779</th>\n",
       "      <th>pixel780</th>\n",
       "      <th>pixel781</th>\n",
       "      <th>pixel782</th>\n",
       "      <th>pixel783</th>\n",
       "    </tr>\n",
       "  </thead>\n",
       "  <tbody>\n",
       "    <tr>\n",
       "      <th>0</th>\n",
       "      <td>0</td>\n",
       "      <td>0</td>\n",
       "      <td>0</td>\n",
       "      <td>0</td>\n",
       "      <td>0</td>\n",
       "      <td>0</td>\n",
       "      <td>0</td>\n",
       "      <td>0</td>\n",
       "      <td>0</td>\n",
       "      <td>0</td>\n",
       "      <td>...</td>\n",
       "      <td>0</td>\n",
       "      <td>0</td>\n",
       "      <td>0</td>\n",
       "      <td>0</td>\n",
       "      <td>0</td>\n",
       "      <td>0</td>\n",
       "      <td>0</td>\n",
       "      <td>0</td>\n",
       "      <td>0</td>\n",
       "      <td>0</td>\n",
       "    </tr>\n",
       "    <tr>\n",
       "      <th>1</th>\n",
       "      <td>0</td>\n",
       "      <td>0</td>\n",
       "      <td>0</td>\n",
       "      <td>0</td>\n",
       "      <td>0</td>\n",
       "      <td>0</td>\n",
       "      <td>0</td>\n",
       "      <td>0</td>\n",
       "      <td>0</td>\n",
       "      <td>0</td>\n",
       "      <td>...</td>\n",
       "      <td>0</td>\n",
       "      <td>0</td>\n",
       "      <td>0</td>\n",
       "      <td>0</td>\n",
       "      <td>0</td>\n",
       "      <td>0</td>\n",
       "      <td>0</td>\n",
       "      <td>0</td>\n",
       "      <td>0</td>\n",
       "      <td>0</td>\n",
       "    </tr>\n",
       "    <tr>\n",
       "      <th>2</th>\n",
       "      <td>0</td>\n",
       "      <td>0</td>\n",
       "      <td>0</td>\n",
       "      <td>0</td>\n",
       "      <td>0</td>\n",
       "      <td>0</td>\n",
       "      <td>0</td>\n",
       "      <td>0</td>\n",
       "      <td>0</td>\n",
       "      <td>0</td>\n",
       "      <td>...</td>\n",
       "      <td>0</td>\n",
       "      <td>0</td>\n",
       "      <td>0</td>\n",
       "      <td>0</td>\n",
       "      <td>0</td>\n",
       "      <td>0</td>\n",
       "      <td>0</td>\n",
       "      <td>0</td>\n",
       "      <td>0</td>\n",
       "      <td>0</td>\n",
       "    </tr>\n",
       "    <tr>\n",
       "      <th>3</th>\n",
       "      <td>0</td>\n",
       "      <td>0</td>\n",
       "      <td>0</td>\n",
       "      <td>0</td>\n",
       "      <td>0</td>\n",
       "      <td>0</td>\n",
       "      <td>0</td>\n",
       "      <td>0</td>\n",
       "      <td>0</td>\n",
       "      <td>0</td>\n",
       "      <td>...</td>\n",
       "      <td>0</td>\n",
       "      <td>0</td>\n",
       "      <td>0</td>\n",
       "      <td>0</td>\n",
       "      <td>0</td>\n",
       "      <td>0</td>\n",
       "      <td>0</td>\n",
       "      <td>0</td>\n",
       "      <td>0</td>\n",
       "      <td>0</td>\n",
       "    </tr>\n",
       "    <tr>\n",
       "      <th>4</th>\n",
       "      <td>0</td>\n",
       "      <td>0</td>\n",
       "      <td>0</td>\n",
       "      <td>0</td>\n",
       "      <td>0</td>\n",
       "      <td>0</td>\n",
       "      <td>0</td>\n",
       "      <td>0</td>\n",
       "      <td>0</td>\n",
       "      <td>0</td>\n",
       "      <td>...</td>\n",
       "      <td>0</td>\n",
       "      <td>0</td>\n",
       "      <td>0</td>\n",
       "      <td>0</td>\n",
       "      <td>0</td>\n",
       "      <td>0</td>\n",
       "      <td>0</td>\n",
       "      <td>0</td>\n",
       "      <td>0</td>\n",
       "      <td>0</td>\n",
       "    </tr>\n",
       "  </tbody>\n",
       "</table>\n",
       "<p>5 rows × 784 columns</p>\n",
       "</div>"
      ],
      "text/plain": [
       "   pixel0  pixel1  pixel2  pixel3  pixel4  pixel5  pixel6  pixel7  pixel8  \\\n",
       "0       0       0       0       0       0       0       0       0       0   \n",
       "1       0       0       0       0       0       0       0       0       0   \n",
       "2       0       0       0       0       0       0       0       0       0   \n",
       "3       0       0       0       0       0       0       0       0       0   \n",
       "4       0       0       0       0       0       0       0       0       0   \n",
       "\n",
       "   pixel9  ...  pixel774  pixel775  pixel776  pixel777  pixel778  pixel779  \\\n",
       "0       0  ...         0         0         0         0         0         0   \n",
       "1       0  ...         0         0         0         0         0         0   \n",
       "2       0  ...         0         0         0         0         0         0   \n",
       "3       0  ...         0         0         0         0         0         0   \n",
       "4       0  ...         0         0         0         0         0         0   \n",
       "\n",
       "   pixel780  pixel781  pixel782  pixel783  \n",
       "0         0         0         0         0  \n",
       "1         0         0         0         0  \n",
       "2         0         0         0         0  \n",
       "3         0         0         0         0  \n",
       "4         0         0         0         0  \n",
       "\n",
       "[5 rows x 784 columns]"
      ]
     },
     "execution_count": 81,
     "metadata": {},
     "output_type": "execute_result"
    }
   ],
   "source": [
    "from pathlib import Path\n",
    "\n",
    "test_data = pd.read_csv(filepath_or_buffer=Path('').joinpath('data','digit-recognizer','test.csv'))\n",
    "\n",
    "test_data.head()"
   ]
  },
  {
   "cell_type": "code",
   "execution_count": 82,
   "metadata": {},
   "outputs": [],
   "source": [
    "test_data = torch.tensor(test_data.to_numpy())"
   ]
  },
  {
   "cell_type": "code",
   "execution_count": 83,
   "metadata": {},
   "outputs": [
    {
     "data": {
      "text/plain": [
       "torch.Size([28000, 784])"
      ]
     },
     "execution_count": 83,
     "metadata": {},
     "output_type": "execute_result"
    }
   ],
   "source": [
    "test_data.size()"
   ]
  },
  {
   "cell_type": "markdown",
   "metadata": {},
   "source": [
    "Creating Dataset Class"
   ]
  },
  {
   "cell_type": "code",
   "execution_count": 84,
   "metadata": {},
   "outputs": [],
   "source": [
    "from torch.utils.data import Dataset\n",
    "from torch.nn.functional import normalize\n",
    "from typing import Tuple, Union\n",
    "\n",
    "\n",
    "class CustomMNISTDataset(Dataset):\n",
    "\tdef __init__(self, data_tensor:torch.Tensor, labels:torch.Tensor=None, do_normalise:bool=True) -> None:\n",
    "\t\tsuper().__init__()\n",
    "\t\tself.dataset = data_tensor\n",
    "\t\tself.labels = labels\n",
    "\t\tself.do_normalise = do_normalise\n",
    "\t\t\n",
    "\tdef __len__(self) -> int:\n",
    "\t\treturn self.dataset.size()[0]\n",
    "\n",
    "\tdef __getitem__(self, index:int) -> Union[Tuple[torch.Tensor, torch.Tensor], torch.Tensor]:\n",
    "\t\tif(self.do_normalise):\n",
    "\t\t\timg = normalize(self.dataset[index].float(), dim=0)\n",
    "\t\telse:\n",
    "\t\t\timg = self.dataset[index].float()\n",
    "\n",
    "\t\tif(self.labels != None):\n",
    "\t\t\treturn (img, self.labels[index])\n",
    "\t\telse:\n",
    "\t\t\treturn img"
   ]
  },
  {
   "cell_type": "code",
   "execution_count": 85,
   "metadata": {},
   "outputs": [],
   "source": [
    "train_dataset = CustomMNISTDataset(data_tensor=train_x, labels=train_y)\n",
    "val_dataset = CustomMNISTDataset(data_tensor=val_x, labels=val_y)\n",
    "val_test_dataset = CustomMNISTDataset(data_tensor=val_test_x, labels=val_test_y)\n",
    "test_dataset = CustomMNISTDataset(data_tensor=test_data)"
   ]
  },
  {
   "cell_type": "markdown",
   "metadata": {},
   "source": [
    "Creating DataLoader"
   ]
  },
  {
   "cell_type": "code",
   "execution_count": 87,
   "metadata": {},
   "outputs": [],
   "source": [
    "from torch.utils.data import DataLoader\n",
    "\n",
    "train_dataloader = DataLoader(dataset=train_dataset, batch_size=256, shuffle=True)\n",
    "val_dataloader = DataLoader(dataset=val_dataset, batch_size=512, shuffle=False)\n",
    "val_test_dataloader = DataLoader(dataset=val_test_dataset, batch_size=512, shuffle=False)"
   ]
  },
  {
   "cell_type": "code",
   "execution_count": 88,
   "metadata": {},
   "outputs": [],
   "source": [
    "first_batch = next(iter(train_dataloader))"
   ]
  },
  {
   "cell_type": "code",
   "execution_count": 89,
   "metadata": {},
   "outputs": [
    {
     "data": {
      "text/plain": [
       "torch.Size([256])"
      ]
     },
     "execution_count": 89,
     "metadata": {},
     "output_type": "execute_result"
    }
   ],
   "source": [
    "first_batch[1].shape"
   ]
  },
  {
   "cell_type": "markdown",
   "metadata": {},
   "source": [
    "Building Neural Network"
   ]
  },
  {
   "cell_type": "code",
   "execution_count": 118,
   "metadata": {},
   "outputs": [],
   "source": [
    "import torch.nn as nn\n",
    "\n",
    "class CustomNN(nn.Module):\n",
    "\tdef __init__(self) -> None:\n",
    "\t\tsuper().__init__()\n",
    "\n",
    "\t\tself.input_layer = nn.modules.Linear(in_features=784, out_features=28, bias=False)\n",
    "\t\tself.h1 = nn.modules.Linear(in_features=28, out_features=14, bias=True)\n",
    "\t\tself.h2 = nn.modules.Linear(in_features=14, out_features=10, bias=True)\n",
    "\t\tself.output_layer = nn.modules.Linear(in_features=10, out_features=10, bias=True)\n",
    "\t\tself.h_act = nn.modules.ReLU()\n",
    "\t\t\n",
    "\tdef forward(self, inp_data:torch.Tensor) -> torch.Tensor:\n",
    "\n",
    "\t\tout = self.input_layer(inp_data)\n",
    "\t\tout = self.h_act(out)\n",
    "\t\tout = self.h1(out)\n",
    "\t\tout = self.h_act(out)\n",
    "\t\tout = self.h2(out)\n",
    "\t\tout = self.h_act(out)\n",
    "\t\tout = self.output_layer(out)\n",
    "\t\treturn out\n",
    "\t\n",
    "net = CustomNN()"
   ]
  },
  {
   "cell_type": "code",
   "execution_count": 119,
   "metadata": {},
   "outputs": [
    {
     "name": "stdout",
     "output_type": "stream",
     "text": [
      "Time taken : 0.00072798\n"
     ]
    }
   ],
   "source": [
    "import time\n",
    "import torch.nn.functional as F\n",
    "\n",
    "with torch.no_grad():\n",
    "\tstart_time = time.time_ns()\n",
    "\ttest_output = F.softmax(input=net(first_batch[0]), dim=-1)\n",
    "\tend_time = time.time_ns()\n",
    "\n",
    "print(f\"Time taken : {(end_time-start_time)/(10**9)}\")"
   ]
  },
  {
   "cell_type": "markdown",
   "metadata": {},
   "source": [
    "Optimising Model Parameter"
   ]
  },
  {
   "cell_type": "code",
   "execution_count": 153,
   "metadata": {},
   "outputs": [
    {
     "name": "stdout",
     "output_type": "stream",
     "text": [
      "Training Epoch 1\n",
      "Loss for epoch 1 = 0.10088257091371594\n",
      "Training Epoch 2\n",
      "Loss for epoch 2 = 0.10316209511428669\n",
      "Training Epoch 3\n",
      "Loss for epoch 3 = 0.09422728975580351\n",
      "Training Epoch 4\n",
      "Loss for epoch 4 = 0.08208535567580445\n",
      "Training Epoch 5\n",
      "Loss for epoch 5 = 0.08428954609946625\n",
      "Training Epoch 6\n",
      "Loss for epoch 6 = 0.0800251913307285\n",
      "Training Epoch 7\n",
      "Loss for epoch 7 = 0.07900892710313201\n",
      "Training Epoch 8\n",
      "Loss for epoch 8 = 0.0776975731604506\n",
      "Training Epoch 9\n",
      "Loss for epoch 9 = 0.0702596071578965\n",
      "Training Epoch 10\n",
      "Loss for epoch 10 = 0.08154640079954185\n"
     ]
    }
   ],
   "source": [
    "from torch.optim import SGD\n",
    "from torch.nn import CrossEntropyLoss\n",
    "\n",
    "optimizer = SGD(params=net.parameters(), lr=1e-2)\n",
    "loss_fn = CrossEntropyLoss()\n",
    "\n",
    "epochs = 10\n",
    "\n",
    "for i in range(epochs):\n",
    "\tprint(f\"Training Epoch {i+1}\")\n",
    "\n",
    "\tepoch_loss = []\n",
    "\n",
    "\tfor (data, labels) in train_dataloader:\n",
    "\t\toutput = net(data) # output shape = batch_size * number of neurons in output layer , [batch_size,10]\n",
    "\t\tbatch_loss = loss_fn(output, labels)\n",
    "\t\tbatch_loss.backward()\n",
    "\t\toptimizer.step()\n",
    "\n",
    "\t\tepoch_loss.append(batch_loss.cpu().item())\n",
    "\t\n",
    "\toptimizer.zero_grad()\n",
    "\tepoch_loss = np.average(epoch_loss)\n",
    "\tprint(f\"Loss for epoch {i+1} = {epoch_loss}\")\n"
   ]
  },
  {
   "cell_type": "code",
   "execution_count": 154,
   "metadata": {},
   "outputs": [
    {
     "name": "stdout",
     "output_type": "stream",
     "text": [
      "95.28571428571429\n"
     ]
    }
   ],
   "source": [
    "def calc_test_accuracy(network:nn.Module, test_dl:DataLoader) -> float:\n",
    "\ttotal_acc = []\n",
    "\ttotal_weights = []\n",
    "\twith torch.no_grad():\n",
    "\t\tfor (data,labels) in test_dl:\n",
    "\t\t\tout = network(data) # shape = [batch_size,output_classes]\n",
    "\t\t\t_,out = torch.max(F.softmax(input=out, dim=-1), dim=-1) # shape = [batch_size]\n",
    "\t\t\tcorrect = torch.sum(out == labels).item()\n",
    "\t\t\tlen_batch = data.size()[0]\n",
    "\t\t\tbatch_acc = (correct/len_batch)*100\n",
    "\t\t\ttotal_acc.append(batch_acc)\n",
    "\t\t\ttotal_weights.append(len_batch)\n",
    "\n",
    "\ttotal_acc = np.average(total_acc, weights=total_weights)\n",
    "\treturn total_acc\n",
    "\n",
    "\n",
    "val_test_acc = calc_test_accuracy(network=net, test_dl=val_test_dataloader)\n",
    "\t\t\t\n",
    "print(val_test_acc)\n"
   ]
  },
  {
   "cell_type": "markdown",
   "metadata": {},
   "source": [
    "Doing Training With Validation"
   ]
  },
  {
   "cell_type": "code",
   "execution_count": 159,
   "metadata": {},
   "outputs": [
    {
     "name": "stdout",
     "output_type": "stream",
     "text": [
      "Training Epoch 1\n",
      "Loss for epoch 1 = 2.308036006785728\n",
      "Training Epoch 2\n",
      "Loss for epoch 2 = 2.1854890576890997\n",
      "Training Epoch 3\n",
      "Loss for epoch 3 = 1.8348153225473456\n",
      "Training Epoch 4\n",
      "Loss for epoch 4 = 1.4656509716768522\n",
      "Training Epoch 5\n",
      "Loss for epoch 5 = 1.0830280446522944\n",
      "Training Epoch 6\n",
      "Loss for epoch 6 = 0.7842984851953145\n",
      "Training Epoch 7\n",
      "Loss for epoch 7 = 0.5744852474009668\n",
      "Training Epoch 8\n",
      "Loss for epoch 8 = 0.4452987192450343\n",
      "Training Epoch 9\n",
      "Loss for epoch 9 = 0.35441735457326917\n",
      "Training Epoch 10\n",
      "Loss for epoch 10 = 0.3015650441316334\n",
      "Training Epoch 11\n",
      "Loss for epoch 11 = 0.2685880505958119\n",
      "Training Epoch 12\n",
      "Loss for epoch 12 = 0.2558036116329399\n",
      "Training Epoch 13\n",
      "Loss for epoch 13 = 0.22428948704052615\n",
      "Training Epoch 14\n",
      "Loss for epoch 14 = 0.19986696052994277\n",
      "Training Epoch 15\n",
      "Loss for epoch 15 = 0.19503170850913268\n",
      "Training Epoch 16\n",
      "Loss for epoch 16 = 0.17261677018895344\n",
      "Training Epoch 17\n",
      "Loss for epoch 17 = 0.16222135480996724\n",
      "Training Epoch 18\n",
      "Loss for epoch 18 = 0.15250415803008788\n",
      "Training Epoch 19\n",
      "Loss for epoch 19 = 0.13604824192117196\n",
      "Training Epoch 20\n",
      "Loss for epoch 20 = 0.13791321713880106\n",
      "Training Epoch 21\n",
      "Loss for epoch 21 = 0.139139901695622\n",
      "Training stopped early.\n"
     ]
    }
   ],
   "source": [
    "net = CustomNN()\n",
    "\n",
    "optimizer = SGD(params=net.parameters(), lr=1e-2)\n",
    "loss_fn = CrossEntropyLoss()\n",
    "\n",
    "epochs = 25\n",
    "\n",
    "last_val_acc = 0.0\n",
    "plat_steps = 0\n",
    "\n",
    "for i in range(epochs):\n",
    "\tprint(f\"Training Epoch {i+1}\")\n",
    "\n",
    "\tepoch_loss = []\n",
    "\n",
    "\tfor (data, labels) in train_dataloader:\n",
    "\t\toutput = net(data) # output shape = batch_size * number of neurons in output layer , [batch_size,10]\n",
    "\t\tbatch_loss = loss_fn(output, labels)\n",
    "\t\tbatch_loss.backward()\n",
    "\t\toptimizer.step()\n",
    "\n",
    "\t\tepoch_loss.append(batch_loss.cpu().item())\n",
    "\t\n",
    "\toptimizer.zero_grad()\n",
    "\tepoch_loss = np.average(epoch_loss)\n",
    "\tprint(f\"Loss for epoch {i+1} = {epoch_loss}\")\n",
    "\n",
    "\tval_acc = calc_test_accuracy(network=net, test_dl=val_dataloader)\n",
    "\tif(val_acc < last_val_acc):\n",
    "\t\tplat_steps += 1\n",
    "\telse:\n",
    "\t\tplat_steps = 0\n",
    "\n",
    "\tlast_val_acc = val_acc\n",
    "\n",
    "\tif(plat_steps == 3):\n",
    "\t\tprint(\"Training stopped early.\")\n",
    "\t\tbreak\n",
    "\t\n",
    "\t"
   ]
  },
  {
   "cell_type": "markdown",
   "metadata": {},
   "source": [
    "Testing on val test dataset"
   ]
  },
  {
   "cell_type": "code",
   "execution_count": 160,
   "metadata": {},
   "outputs": [
    {
     "name": "stdout",
     "output_type": "stream",
     "text": [
      "94.42857142857143\n"
     ]
    }
   ],
   "source": [
    "test_acc = calc_test_accuracy(network=net, test_dl=val_test_dataloader)\n",
    "print(test_acc)"
   ]
  }
 ],
 "metadata": {
  "kernelspec": {
   "display_name": "Python 3",
   "language": "python",
   "name": "python3"
  },
  "language_info": {
   "codemirror_mode": {
    "name": "ipython",
    "version": 3
   },
   "file_extension": ".py",
   "mimetype": "text/x-python",
   "name": "python",
   "nbconvert_exporter": "python",
   "pygments_lexer": "ipython3",
   "version": "3.10.14"
  }
 },
 "nbformat": 4,
 "nbformat_minor": 2
}
